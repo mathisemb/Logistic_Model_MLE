{
 "cells": [
  {
   "cell_type": "markdown",
   "id": "29e618c5",
   "metadata": {},
   "source": [
    " "
   ]
  },
  {
   "cell_type": "markdown",
   "id": "f92d3091",
   "metadata": {},
   "source": [
    " "
   ]
  },
  {
   "cell_type": "markdown",
   "id": "79dc1f11",
   "metadata": {},
   "source": [
    "## <font color=darkblue>Implémentation du maximum de vraisemblance pour le modèle de régression logistique</font>"
   ]
  },
  {
   "cell_type": "markdown",
   "id": "9f6f705c",
   "metadata": {},
   "source": [
    " "
   ]
  },
  {
   "cell_type": "markdown",
   "id": "ae932025",
   "metadata": {},
   "source": [
    "L'objectif de la régression logistique est d'expliquer une variable binaire par des observations réelles indépendantes. Pour y parvenir on estime le paramètre inconnu qui lie les observations et la variable binaire. On se place donc dans un cadre paramétrique. Commençons par détailler le modèle de régression logistique."
   ]
  },
  {
   "cell_type": "markdown",
   "id": "f4b36bcf",
   "metadata": {},
   "source": [
    "# <font color=darkgreen>1. Le modèle</font>"
   ]
  },
  {
   "cell_type": "markdown",
   "id": "9baaff38",
   "metadata": {},
   "source": [
    "La régression logistique appartient à une classe de modèles dits de classification supervisée. Donnons en une définition formelle."
   ]
  },
  {
   "cell_type": "markdown",
   "id": "03480928",
   "metadata": {},
   "source": [
    "**Définition** Le `modèle de classification supervisée` correspond à la donnée de $\\mathcal{D}_n = (X_i,Y_i)_{1\\leq i\\leq n}$ les observations où $(X_i,Y_i) \\stackrel{iid}{\\sim} (X,Y)$ un couple générique de loi $P_{X,Y}$ où $X \\in \\mathbb{R}^d$, est la variable dite explicative (de dimension $d \\in \\mathbb{N}$) et $Y \\in \\{ 0,1 \\}$ la variable expliquée."
   ]
  },
  {
   "cell_type": "markdown",
   "id": "efae4646",
   "metadata": {},
   "source": [
    "Naturellement, après avoir observé des données ET leurs étiquettes, on aimerait pouvoir faire des prédictions. Sur quelle quantité concentrer nos efforts ? C'est ce qu'on peut espérer sachant la donnée."
   ]
  },
  {
   "cell_type": "markdown",
   "id": "70f271c2",
   "metadata": {},
   "source": [
    "**Définition** On appelle fonction de régression la fonction\n",
    "$$\n",
    "    \\eta : x \\in \\mathbb{R}^d \\mapsto \\eta(x) = \\mathbb{E}[Y|X=x] = P(Y=1|X=x)\n",
    "$$"
   ]
  },
  {
   "cell_type": "markdown",
   "id": "020d5b98",
   "metadata": {},
   "source": [
    "Puisque la loi du couple générique $(X,Y)$ est inconnue, nous ferons comme d'habitude en statistique : un estimateur."
   ]
  },
  {
   "cell_type": "markdown",
   "id": "e2a0d4b4",
   "metadata": {},
   "source": [
    "Précisons maintenant le cadre de la régression logistique qui consiste simplement en l'ajout d'une hypothèse."
   ]
  },
  {
   "cell_type": "markdown",
   "id": "63a6283f",
   "metadata": {},
   "source": [
    "**Définition** Le `modèle de régression logistique` correspond à un modèle de classification supervisée sur lequel on fait l'`hypothèse logistique` : $\\exists \\beta \\in \\mathbb{R}^d, \\exists a \\in \\mathbb{R}, \\forall x \\in \\mathbb{R}^d$,\n",
    "$$\n",
    "    log\\left( \\frac{\\eta(x)}{1-\\eta(x)} \\right) = \\beta^Tx+a\n",
    "$$\n",
    "\n",
    "**Il est important de remarquer que** $1 - \\eta(x) = P(Y=0|X=x)$ donc\n",
    "$ P(Y=1|X=x) \\geq P(Y=0|X=x) \\iff log\\left( \\frac{\\eta(x)}{1-\\eta(x)} \\right) \\geq 0 $.\\\n",
    "Par conséquent, \n",
    "$$\\boxed{\\beta^Tx+a \\geq 0 \\implies \\text{Y=1 est plus probable que Y=0}}$$"
   ]
  },
  {
   "cell_type": "markdown",
   "id": "cd1d2031",
   "metadata": {},
   "source": [
    "Il nous suffit donc d'estimer les deux paramètres $\\beta$ et $a$. Exprimons donc la vraisemblance du modèle."
   ]
  },
  {
   "cell_type": "markdown",
   "id": "e8e36368",
   "metadata": {},
   "source": [
    "Puisque $\\eta(x) = \\frac{exp(\\beta^Tx+a)}{1+exp\\beta^Tx+a)}$, on a $\\mathcal{L}((Y_i)_{1\\leq i\\leq n} | (X_i)_{1\\leq i\\leq n}) = \\bigotimes_{i=1}^n \\mathcal{B}(\\eta(X_i)) = \\bigotimes_{i=1}^n \\mathcal{B}\\left(\\frac{exp(\\beta^TX_i+a)}{1+exp(\\beta^TX_i+a)}\\right)$"
   ]
  },
  {
   "cell_type": "markdown",
   "id": "500aa888",
   "metadata": {},
   "source": [
    ">**Rappel** : si les $(X_i)_{1\\leq i\\leq n}$ sont indépendants à valeurs dans $(X,\\mathcal{X})$ muni d'une mesure de référence $\\mu$, et que la loi de $X_1$ a une densité $p_{\\theta_0}$ par rapport à $\\mu$ où $p_{\\theta_0} \\in \\left\\{ p_{\\theta}, \\theta \\in \\Theta \\right\\}$, par indépendance des $X_i$, la fonction de `vraisemblance` s'écrit alors\n",
    "$$L_n : \\theta \\mapsto p_{\\theta}(X_1,...,X_n) = \\prod_{i=1}^{n}p_{\\theta}(X_i)\n",
    "$$\n",
    "Et la `log-vraisemblance`\n",
    "$$\n",
    "l_n : \\theta \\mapsto log(p_{\\theta}(X_1,...,X_n)) = \\sum_{i=1}^{n}log(p_{\\theta}(X_i))\n",
    "$$\n",
    "On appelle `maximum de vraisemlance` tout $\\hat{\\theta}_n^{MV}$ tel que\n",
    "$$\n",
    "    \\hat{\\theta}_n^{MV} \\in \\underset{\\theta \\in \\Theta}{\\mathrm{argmin}}\\:l_n(\\theta)\n",
    "$$"
   ]
  },
  {
   "cell_type": "markdown",
   "id": "d2e9bfd5",
   "metadata": {},
   "source": [
    "Puisque la densité d'une $\\mathcal{B}(p)$ peut s'écrire comme $x \\in \\{0,1\\} \\mapsto p^x(1-p)^{1-x}$ et que les données sont indépendantes, la vraisemblance s'écrit\n",
    "$$\n",
    "    \\prod_{i=1}^n\n",
    "    \\left(     \\frac{exp(\\beta^TX_i+a)}{1+exp(\\beta^TX_i+a)} \\right)^{Y_i}\n",
    "    \\left( 1 - \\frac{exp(\\beta^TX_i+a)}{1+exp(\\beta^TX_i+a)} \\right)^{1 - Y_i}\n",
    "$$"
   ]
  },
  {
   "cell_type": "markdown",
   "id": "ca49f5f6",
   "metadata": {},
   "source": [
    "Finalement on obtient la log-vraisemblance du modèle logistique\n",
    "<font color=darkred>\n",
    "    $$l_n(\\beta,a) = \\sum_{i=1}^n \\left( Y_i\\left(\\beta^TX_i+a\\right) - log\\left(1+e^{\\beta^TX_i+a}\\right) \\right)$$\n",
    "</font>"
   ]
  },
  {
   "cell_type": "markdown",
   "id": "9dd99609",
   "metadata": {},
   "source": [
    "Une fois qu'on a estimé $\\beta$ et $a$ par $\\hat{\\beta}$ et $\\hat{a}$ en maximisant cette vraisemblance, on obtient l'estimateur plug-in du classifieur $h(x) = \\mathbb{1}\\left\\{ \\eta(x) \\geq \\frac{1}{2} \\right\\}$ :\n",
    "<font color=darkred>\n",
    "    $$\\hat{h}(x) = \\mathbb{1}\\left\\{ \\hat{\\beta}^Tx + \\hat{a} \\geq 0 \\right\\}$$\n",
    "</font>"
   ]
  },
  {
   "cell_type": "markdown",
   "id": "a8b62177",
   "metadata": {},
   "source": [
    "**La question est maintenant de savoir comment maximiser cette vraisemblance**. En effet la tâche n'est pas simple car son maximum n'est pas explicitement calculable. Ainsi l'objectif de ce notebook est de voir quelles méthodes nous permettent de contourner ce problème. Nous commençerons par la célèbre méthode de gradient, puis nous passerons à une méthode du 2nd ordre : Newton-Raphson. Finalement nous expliquerons l'algorithme Expectation-Maximisation introduit en 1977 et plus tard largement utilisé en apprentissage automatique."
   ]
  },
  {
   "cell_type": "markdown",
   "id": "beffc40d",
   "metadata": {},
   "source": [
    "# <font color=darkgreen>2. Maximisation de la vraisemblance</font>"
   ]
  },
  {
   "cell_type": "markdown",
   "id": "a5259160",
   "metadata": {},
   "source": [
    "## 2.1. Méthode du 1er ordre : montée de gradient"
   ]
  },
  {
   "cell_type": "markdown",
   "id": "5c73dc6a",
   "metadata": {},
   "source": [
    "Cette méthode par de l'idée intuitive que pour atteindre le maximum il faut monter, or c'est le gradient qui nous indique la route à prendre pour monter le plus. En considérant que $\\theta = (\\beta, a)$ est le paramètre recherché, on produit une suite $\\left\\{ \\hat{\\theta}^{(K)} \\right\\}_{K\\geq0}$ d'estimateurs de $\\theta$. L'algorithme est le suivant :\\\n",
    "`Initialisation :` $\\hat{\\theta}^{(0)}$ est choisi arbitrairement\\\n",
    "`Itérations :` $\\forall K \\geq 0, \\hat{\\theta}^{(K+1)} = \\hat{\\theta}^{(K)} + \\eta_{K+1}\\nabla_{\\theta}l_n\\left(\\hat{\\theta}^{(K)}\\right)$\\\n",
    "où les $\\left(\\eta_K\\right)_{K\\geq1}$ sont des pas dans $\\mathbb{R}_+^*$."
   ]
  },
  {
   "cell_type": "markdown",
   "id": "273c5998",
   "metadata": {},
   "source": [
    "Plusieurs critères d'arrêts sont possibles et peuvent être combiner. On peut par exemple citer :\n",
    "- lorsque le gradient de f est suffisamment petit : $\\| \\nabla_{\\theta}l_n\\left(\\hat{\\theta}^{(K)}\\right) \\| \\leq \\varepsilon$\n",
    "- lorsque les itérés ne progressent plus suffisamment : $\\|\\hat{\\theta}^{(K+1)} - \\hat{\\theta}^{(K)}\\| \\leq \\varepsilon$\n",
    "- lorsque les valeurs de f ne changent plus suffisamment : $\\|l_n\\left(\\hat{\\theta}^{(K+1)}\\right) - l_n\\left(\\hat{\\theta}^{(K)}\\right)\\| \\leq \\varepsilon$\n",
    "\n",
    "En plus de ces critères on peut ajouter une condition sur un nombre d'itérations maximum à ne pas dépasser."
   ]
  },
  {
   "cell_type": "markdown",
   "id": "acd2a555",
   "metadata": {},
   "source": [
    "Voici le code Python implémentant cette méthode :"
   ]
  },
  {
   "cell_type": "code",
   "execution_count": 1,
   "id": "5c532832",
   "metadata": {},
   "outputs": [],
   "source": [
    "\"\"\"\"\"\"\"\"\"\"\"\"\"\"\"\"\"\n",
    "Required packages\n",
    "\"\"\"\"\"\"\"\"\"\"\"\"\"\"\"\"\"\n",
    "import autograd.numpy as np\n",
    "import autograd\n",
    "import scipy.stats as stat\n",
    "import matplotlib.pyplot as plt\n",
    "from tqdm import tqdm\n",
    "import seaborn as sns\n",
    "sns.set_theme()\n",
    "#import math\n",
    "#import pandas as pd\n",
    "#from autograd import grad"
   ]
  },
  {
   "cell_type": "code",
   "execution_count": 2,
   "id": "d62f7fad",
   "metadata": {},
   "outputs": [],
   "source": [
    "# LOGISTIC REGRESSION LIKELIHOOD FUNCTION\n",
    "def loglikelihood(theta):\n",
    "    \"\"\"\n",
    "    Inputs\n",
    "    ----------\n",
    "    theta = np.array([beta_1,...,beta_d, a])\n",
    "    beta: parameter of dimension d\n",
    "    a: arameter of dimension 1\n",
    "    X,Y: data (global variable ?) of dimension n x d (1 line = 1 data)\n",
    "    \n",
    "    Outputs\n",
    "    -------\n",
    "    logl: loglikelihood (of dimension 1)\n",
    "    \"\"\"\n",
    "    d = len(theta)\n",
    "    beta = theta[:d-1]\n",
    "    a = theta[d-1]\n",
    "    S = 0\n",
    "    for i in range(N):\n",
    "        bTXia = np.inner(beta,X[i,:]) + a\n",
    "        S += Y[i]*bTXia - np.log(1 + np.exp(bTXia))\n",
    "    \"\"\"\n",
    "    # TODO : Vectorization\n",
    "    \"\"\"\n",
    "    return S"
   ]
  },
  {
   "cell_type": "code",
   "execution_count": 3,
   "id": "d52dd0e6",
   "metadata": {},
   "outputs": [],
   "source": [
    "# GRADIENT METHOD\n",
    "def gradient_met(f, x0, eta, eps, Nmax):\n",
    "    \"\"\"\n",
    "    Inputs\n",
    "    ----------\n",
    "    f: the function we want to maximize\n",
    "    x0: the initialization (of dimension R^d x R)\n",
    "    eta: the step\n",
    "    eps: the precision (stop criteria)\n",
    "    Nmax: the maximum number of iterations\n",
    "    \n",
    "    Outputs\n",
    "    -------\n",
    "    x: the minimum (of dimension R^d x R)\n",
    "    n: the number of iterations\n",
    "    cv: a boolean that indicates if the algorithm has converged\n",
    "    \"\"\"\n",
    "    n = 0\n",
    "    x = x0\n",
    "    grad_f = autograd.grad(f)\n",
    "    g = grad_f(x)\n",
    "    while(np.linalg.norm(g) > eps and n<Nmax):\n",
    "        x = x + eta*g\n",
    "        g = grad_f(x)\n",
    "        n += 1\n",
    "    cv = np.linalg.norm(g) <= eps\n",
    "    return x,n,cv"
   ]
  },
  {
   "cell_type": "code",
   "execution_count": 4,
   "id": "388f0937",
   "metadata": {},
   "outputs": [
    {
     "data": {
      "image/png": "[encoded data removed]",
      "text/plain": [
       "<Figure size 600x600 with 1 Axes>"
      ]
     },
     "metadata": {},
     "output_type": "display_data"
    }
   ],
   "source": [
    "# GENERATING DATA\n",
    "\"\"\"\n",
    "TODO : def a FUNCTION to generate data\n",
    "\"\"\"\n",
    "# 1st test : X in R^2 to visualize results\n",
    "N, d = 50, 2\n",
    "X = np.zeros((N,d))\n",
    "Y = np.zeros(N)\n",
    "for i in range(N):\n",
    "    X[:int(N/2),:] = stat.multivariate_normal([0.5, 0.5], [[1.0, 0.], [0., 0.5]]).rvs(size=int(N/2))\n",
    "    Y[:int(N/2)] = 0\n",
    "    X[int(N/2):,:] = stat.multivariate_normal([2, 2], [[1.0, 0.], [0., 0.5]]).rvs(size=int(N/2))\n",
    "    Y[int(N/2):] = 1\n",
    "\n",
    "fig, ax = plt.subplots(nrows=1, ncols=1, figsize=(6, 6))\n",
    "ax.scatter(X[:int(N/2),0],X[:int(N/2),1],label=fr\"groupe Y=0\", color='red')\n",
    "ax.scatter(X[int(N/2):,0],X[int(N/2):,1],label=fr\"groupe Y=1\", color='blue')\n",
    "ax.legend()\n",
    "plt.show()"
   ]
  },
  {
   "cell_type": "code",
   "execution_count": 5,
   "id": "68a777ef",
   "metadata": {},
   "outputs": [
    {
     "name": "stdout",
     "output_type": "stream",
     "text": [
      "----- Return values of gradient method -----\n",
      "The minimum of loglikelihood is  [ 1.59611726  4.14404259 -6.10709137]\n",
      "Found in  244  iterations\n",
      "Did the method converge ?  True\n"
     ]
    }
   ],
   "source": [
    "# TEST OF THE METHOD\n",
    "x0 = np.array([1., 4., 0.]) # theta = np.array([beta_1,...,beta_d, a])\n",
    "eta = 0.1\n",
    "eps = 0.01\n",
    "Nmax = 500\n",
    "minimum,nb_iter,cv = gradient_met(loglikelihood, x0, eta, eps, Nmax)\n",
    "print(\"----- Return values of gradient method -----\")\n",
    "print(\"The minimum of loglikelihood is \", minimum)\n",
    "print(\"Found in \", nb_iter, \" iterations\")\n",
    "print(\"Did the method converge ? \", cv)"
   ]
  },
  {
   "cell_type": "code",
   "execution_count": 6,
   "id": "12833c5e",
   "metadata": {},
   "outputs": [],
   "source": [
    "# PREDICTION\n",
    "def predict(x, theta_hat):\n",
    "    \"\"\"\n",
    "    Inputs\n",
    "    ----------\n",
    "    x: observed data\n",
    "    theta_hat: estimator. theta_hat =  [beta_hat_1,...,beta_hat_d, a_hat]\n",
    "    \n",
    "    Outputs\n",
    "    -------\n",
    "    y: group of x prediction\n",
    "    \"\"\"\n",
    "    d = len(theta_hat)\n",
    "    beta_hat = theta_hat[:d-1]\n",
    "    a_hat = theta_hat[d-1]\n",
    "    return int(np.inner(beta_hat,x) + a_hat >= 0) # 1 if true, else 0"
   ]
  },
  {
   "cell_type": "code",
   "execution_count": 7,
   "id": "534e6863",
   "metadata": {},
   "outputs": [
    {
     "name": "stderr",
     "output_type": "stream",
     "text": [
      "100%|████████████████████████████████████████| 100/100 [00:00<00:00, 314.81it/s]"
     ]
    },
    {
     "name": "stdout",
     "output_type": "stream",
     "text": [
      "Mean of successful predictions over  200  tests :  0.92\n"
     ]
    },
    {
     "name": "stderr",
     "output_type": "stream",
     "text": [
      "\n"
     ]
    }
   ],
   "source": [
    "# TEST PREDICTION\n",
    "nb_test = 100\n",
    "nb_true = 0\n",
    "\n",
    "# 2*nb_test tests in total : nb_test of y=0 and same for y=1\n",
    "for i in tqdm(range(nb_test)):\n",
    "    # Supposed to be in Y=0\n",
    "    x_test_1 = stat.multivariate_normal([0.5, 0.5], [[1.0, 0.], [0., 0.5]]).rvs()\n",
    "    y_pred_1 = predict(x_test_1,minimum) # theta_hat = minimum cumputed before\n",
    "    if y_pred_1 == 0: nb_true += 1\n",
    "        \n",
    "    # Supposed to be in Y=1\n",
    "    x_test_2 = stat.multivariate_normal([2, 2], [[1.0, 0.], [0., 0.5]]).rvs()\n",
    "    y_pred_2 = predict(x_test_2,minimum) # theta_hat = minimum cumputed before\n",
    "    if y_pred_2 == 1: nb_true += 1\n",
    "\n",
    "print(\"Mean of successful predictions over \",2*nb_test,\" tests : \", nb_true/(2*nb_test))"
   ]
  },
  {
   "cell_type": "markdown",
   "id": "27da21d3",
   "metadata": {},
   "source": [
    "## 2.2. Méthode du 2nd ordre : Newton-Raphson"
   ]
  },
  {
   "cell_type": "code",
   "execution_count": null,
   "id": "56f16315",
   "metadata": {},
   "outputs": [],
   "source": []
  },
  {
   "cell_type": "markdown",
   "id": "153684fb",
   "metadata": {},
   "source": [
    "Voici le code Python implémentant cette méthode :"
   ]
  },
  {
   "cell_type": "code",
   "execution_count": null,
   "id": "3ca82c06",
   "metadata": {},
   "outputs": [],
   "source": []
  },
  {
   "cell_type": "markdown",
   "id": "f9b3d9a8",
   "metadata": {},
   "source": [
    "## 2.3. Expectation-Maximisation (EM)"
   ]
  },
  {
   "cell_type": "code",
   "execution_count": null,
   "id": "e88bff95",
   "metadata": {},
   "outputs": [],
   "source": []
  },
  {
   "cell_type": "markdown",
   "id": "af4a1f55",
   "metadata": {},
   "source": [
    "Voici le code Python implémentant cette méthode :"
   ]
  },
  {
   "cell_type": "code",
   "execution_count": null,
   "id": "5af5ff70",
   "metadata": {},
   "outputs": [],
   "source": []
  },
  {
   "cell_type": "markdown",
   "id": "1e50b771",
   "metadata": {},
   "source": [
    "# Références"
   ]
  },
  {
   "cell_type": "markdown",
   "id": "6ab2f4b9",
   "metadata": {},
   "source": [
    "<a href=\"https://en.wikipedia.org/wiki/Logistic_regression\" title=\"WpLR\">Wikipedia - Logistic regression</a>"
   ]
  },
  {
   "cell_type": "markdown",
   "id": "f4598637",
   "metadata": {},
   "source": []
  }
 ],
 "metadata": {
  "kernelspec": {
   "display_name": "Python 3 (ipykernel)",
   "language": "python",
   "name": "python3"
  },
  "language_info": {
   "codemirror_mode": {
    "name": "ipython",
    "version": 3
   },
   "file_extension": ".py",
   "mimetype": "text/x-python",
   "name": "python",
   "nbconvert_exporter": "python",
   "pygments_lexer": "ipython3",
   "version": "3.10.6"
  }
 },
 "nbformat": 4,
 "nbformat_minor": 5
}
