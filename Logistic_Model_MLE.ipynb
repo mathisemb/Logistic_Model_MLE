{
 "cells": [
  {
   "cell_type": "markdown",
   "id": "29e618c5",
   "metadata": {},
   "source": [
    " "
   ]
  },
  {
   "cell_type": "markdown",
   "id": "f92d3091",
   "metadata": {},
   "source": [
    " "
   ]
  },
  {
   "cell_type": "markdown",
   "id": "79dc1f11",
   "metadata": {},
   "source": [
    "## <font color=darkblue>Implémentation du maximum de vraisemblance pour le modèle de régression logistique</font>"
   ]
  },
  {
   "cell_type": "markdown",
   "id": "9f6f705c",
   "metadata": {},
   "source": [
    " "
   ]
  },
  {
   "cell_type": "markdown",
   "id": "ae932025",
   "metadata": {},
   "source": [
    "L'objectif de la régression logistique est d'expliquer une variable binaire par des observations réelles indépendantes. Pour y parvenir on estime le paramètre inconnu qui lie les observations et la variable binaire. On se place donc dans un cadre paramétrique."
   ]
  },
  {
   "cell_type": "markdown",
   "id": "f4b36bcf",
   "metadata": {},
   "source": [
    "# <font color=darkgreen>1. Le modèle</font>"
   ]
  },
  {
   "cell_type": "markdown",
   "id": "9baaff38",
   "metadata": {},
   "source": [
    "**Définition** Le `modèle de classification supervisée` correspond à la donnée de $\\mathcal{D}_n = (X_i,Y_i)_{1\\leq i\\leq n}$ les observations où $(X_i,Y_i) \\stackrel{iid}{\\sim} (X,Y)$ un couple générique de loi $P_{X,Y}$ où $X \\in \\mathbb{R}^d$, est la variable dite explicative (de dimension $d \\in \\mathbb{N}$) et $Y \\in \\{ 0,1 \\}$ la variable expliquée."
   ]
  },
  {
   "cell_type": "markdown",
   "id": "70f271c2",
   "metadata": {},
   "source": [
    "**Définition** On appelle fonction de régression la fonction\n",
    "$$\n",
    "    \\eta : x \\in \\mathbb{R}^d \\mapsto \\eta(x) = \\mathbb{E}[Y|X=x] = P(Y=1|X=x)\n",
    "$$"
   ]
  },
  {
   "cell_type": "markdown",
   "id": "63a6283f",
   "metadata": {},
   "source": [
    "**Définition** Le `modèle de régression logistique` correspond à un modèle de classification supervisée sur lequel on fait l'`hypothèse logistique` : $\\exists \\beta \\in \\mathbb{R}^d, \\exists a \\in \\mathbb{R}, \\forall x \\in \\mathbb{R}^d$,\n",
    "$$\n",
    "    log\\left( \\frac{\\eta(x)}{1-\\eta(x)} \\right) = \\beta^Tx+a\n",
    "$$\n",
    "\n",
    "Il est important de remarquer que $1 - \\eta(x) = P(Y=0|X=x)$ donc\n",
    "$ P(Y=1|X=x) \\geq P(Y=0|X=x) \\iff log\\left( \\frac{\\eta(x)}{1-\\eta(x)} \\right) \\geq 0 $"
   ]
  },
  {
   "cell_type": "markdown",
   "id": "e8e36368",
   "metadata": {},
   "source": [
    "Puisque $\\eta(x) = \\frac{exp(\\beta^Tx+a)}{1+exp\\beta^Tx+a)}$, on a $\\mathcal{L}((Y_i)_{1\\leq i\\leq n} | (X_i)_{1\\leq i\\leq n}) = \\bigotimes_{i=1}^n \\mathcal{B}(\\eta(X_i)) = \\bigotimes_{i=1}^n \\mathcal{B}\\left(\\frac{exp(\\beta^TX_i+a)}{1+exp\\beta^TX_i+a)}\\right)$"
   ]
  },
  {
   "cell_type": "markdown",
   "id": "500aa888",
   "metadata": {},
   "source": [
    ">**Rappel** : si les $(X_i)_{1\\leq i\\leq n}$ sont indépendants à valeurs dans $(X,\\mathcal{X})$ muni d'une mesure de référence $\\mu$, et que la loi de $X_1$ a une densité $p_{\\theta_0}$ par rapport à $\\mu$ où $p_{\\theta_0} \\in \\left\\{ p_{\\theta}, \\theta \\in \\Theta \\right\\}$, par indépendance des $X_i$, la fonction de `vraisemblance` s'écrit alors\n",
    "$$L_n : \\theta \\mapsto p_{\\theta}(X_1,...,X_n) = \\prod_{i=1}^{n}p_{\\theta}(X_i)\n",
    "$$\n",
    "Et la `log-vraisemblance`\n",
    "$$\n",
    "l_n : \\theta \\mapsto log(p_{\\theta}(X_1,...,X_n)) = \\sum_{i=1}^{n}log(p_{\\theta}(X_i))\n",
    "$$\n",
    "On appelle `maximum de vraisemlance` tout $\\hat{\\theta}_n^{MV}$ tel que\n",
    "$$\n",
    "    \\hat{\\theta}_n^{MV} \\in \\underset{\\theta \\in \\Theta}{\\mathrm{argmin}}\\:l_n(\\theta)\n",
    "$$"
   ]
  },
  {
   "cell_type": "markdown",
   "id": "ca49f5f6",
   "metadata": {},
   "source": [
    "Finalement on obtient la log-vraisemblance du modèle logistique\n",
    "<font color=darkred>$$\n",
    "    l_n(\\beta,a) = \\sum_{i=1}^n \\left( Y_i\\left(\\beta^TX_i+a\\right) - log\\left(1+e^{\\beta^TX_i+a}\\right) \\right)\n",
    "$$</font>"
   ]
  },
  {
   "cell_type": "code",
   "execution_count": null,
   "id": "23205cd2",
   "metadata": {},
   "outputs": [],
   "source": []
  },
  {
   "cell_type": "markdown",
   "id": "a63913ab",
   "metadata": {},
   "source": [
    ">**Remarque** : L'estimateur du maximum de vraisemblance est un cas particulier d'estimateurs plus généraux : les M-estimateurs.\\\n",
    "Un *M-estimateur* est ..."
   ]
  },
  {
   "cell_type": "code",
   "execution_count": null,
   "id": "523f200f",
   "metadata": {},
   "outputs": [],
   "source": []
  },
  {
   "cell_type": "markdown",
   "id": "beffc40d",
   "metadata": {},
   "source": [
    "# 2. Maximisation de la vraisemblance"
   ]
  },
  {
   "cell_type": "markdown",
   "id": "a5259160",
   "metadata": {},
   "source": [
    "## a) Méthode du 1er ordre : montée de gradient"
   ]
  },
  {
   "cell_type": "code",
   "execution_count": null,
   "id": "1289ddae",
   "metadata": {},
   "outputs": [],
   "source": []
  },
  {
   "cell_type": "markdown",
   "id": "27da21d3",
   "metadata": {},
   "source": [
    "## b) Méthode du 2nd ordre : Newton-Raphson"
   ]
  },
  {
   "cell_type": "code",
   "execution_count": null,
   "id": "56f16315",
   "metadata": {},
   "outputs": [],
   "source": []
  },
  {
   "cell_type": "markdown",
   "id": "f9b3d9a8",
   "metadata": {},
   "source": [
    "## c) Expectation-Maximisation (EM)"
   ]
  },
  {
   "cell_type": "code",
   "execution_count": null,
   "id": "e88bff95",
   "metadata": {},
   "outputs": [],
   "source": []
  },
  {
   "cell_type": "code",
   "execution_count": null,
   "id": "2d0ea03e",
   "metadata": {},
   "outputs": [],
   "source": []
  },
  {
   "cell_type": "code",
   "execution_count": null,
   "id": "b3b6e715",
   "metadata": {},
   "outputs": [],
   "source": []
  },
  {
   "cell_type": "markdown",
   "id": "1e50b771",
   "metadata": {},
   "source": [
    "# Références"
   ]
  },
  {
   "cell_type": "markdown",
   "id": "6ab2f4b9",
   "metadata": {},
   "source": [
    "<a href=\"https://en.wikipedia.org/wiki/Logistic_regression\" title=\"WpLR\">Wikipedia - Logistic regression</a>"
   ]
  },
  {
   "cell_type": "code",
   "execution_count": null,
   "id": "e8b2ed4d",
   "metadata": {},
   "outputs": [],
   "source": []
  }
 ],
 "metadata": {
  "kernelspec": {
   "display_name": "Python 3 (ipykernel)",
   "language": "python",
   "name": "python3"
  },
  "language_info": {
   "codemirror_mode": {
    "name": "ipython",
    "version": 3
   },
   "file_extension": ".py",
   "mimetype": "text/x-python",
   "name": "python",
   "nbconvert_exporter": "python",
   "pygments_lexer": "ipython3",
   "version": "3.10.6"
  }
 },
 "nbformat": 4,
 "nbformat_minor": 5
}
